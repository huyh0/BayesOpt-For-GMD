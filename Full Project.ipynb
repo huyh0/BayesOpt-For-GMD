{
 "cells": [
  {
   "cell_type": "code",
   "execution_count": 1,
   "metadata": {},
   "outputs": [
    {
     "name": "stderr",
     "output_type": "stream",
     "text": [
      "/home/hueyhoang/anaconda3/envs/env_ecen689/lib/python3.7/site-packages/tqdm/auto.py:21: TqdmWarning: IProgress not found. Please update jupyter and ipywidgets. See https://ipywidgets.readthedocs.io/en/stable/user_install.html\n",
      "  from .autonotebook import tqdm as notebook_tqdm\n"
     ]
    }
   ],
   "source": [
    "import sys\n",
    "import logging\n",
    "import warnings\n",
    "import itertools\n",
    "import subprocess\n",
    "from tqdm.auto import tqdm, trange\n",
    "import argparse\n",
    "from pathlib import Path\n",
    "import json\n",
    "import numpy as np\n",
    "import pandas as pd\n",
    "import torch\n",
    "import time\n",
    "import pytorch_lightning as pl\n",
    "import gc\n",
    "from botorch.utils.transforms import normalize, unnormalize, standardize\n",
    "import botorch\n",
    "\n",
    "# My imports\n",
    "from weighted_retraining.weighted_retraining.chem.chem_data import (\n",
    "    WeightedJTNNDataset,\n",
    "    WeightedMolTreeFolder,\n",
    "    Vocab, \n",
    ")\n",
    "from weighted_retraining.weighted_retraining.chem.jtnn.datautils import tensorize\n",
    "\n",
    "from weighted_retraining.weighted_retraining.chem.chem_data import tensorize as tensorize_smiles\n",
    "from weighted_retraining.weighted_retraining.chem.chem_data import  get_vocab_from_tree\n",
    "\n",
    "from weighted_retraining.weighted_retraining.chem.chem_model import JTVAE\n",
    "from weighted_retraining.weighted_retraining import utils\n",
    "from weighted_retraining.weighted_retraining.chem.chem_utils import rdkit_quiet, standardize_smiles\n",
    "from weighted_retraining.weighted_retraining.chem.jtnn.mol_tree import MolTree\n",
    "from property_predictor import train_model, predict_activity\n",
    "from bayes_opt_loop import GPModel, fit_gp_model\n",
    "# from weighted_retraining.weighted_retraining.opt_scripts import base as wr_base"
   ]
  },
  {
   "cell_type": "code",
   "execution_count": 2,
   "metadata": {},
   "outputs": [],
   "source": [
    "# Extra Arguments\n",
    "rdkit_quiet()\n",
    "\n",
    "tkwargs = {\n",
    "    \"dtype\": torch.float,\n",
    "    \"device\": torch.device(\"cuda\" if torch.cuda.is_available() else \"cpu\"),\n",
    "}"
   ]
  },
  {
   "cell_type": "code",
   "execution_count": 3,
   "metadata": {},
   "outputs": [],
   "source": [
    "def _encode_mol_trees(model, mol_trees):\n",
    "    batch_size = 64\n",
    "    mu_list = []\n",
    "    with torch.no_grad():\n",
    "        for i in trange(\n",
    "            0, len(mol_trees), batch_size, desc=\"encoding mol trees\", leave=False\n",
    "        ):\n",
    "            batch_slice = slice(i, i + batch_size)\n",
    "            _, jtenc_holder, mpn_holder = tensorize(\n",
    "                mol_trees[batch_slice], model.jtnn_vae.vocab, assm=False\n",
    "            )\n",
    "            tree_vecs, _, mol_vecs = model.jtnn_vae.encode(jtenc_holder, mpn_holder)\n",
    "            muT = model.jtnn_vae.T_mean(tree_vecs)\n",
    "            muG = model.jtnn_vae.G_mean(mol_vecs)\n",
    "            mu = torch.cat([muT, muG], axis=-1).cpu().numpy()\n",
    "            mu_list.append(mu)\n",
    "\n",
    "    # Aggregate array\n",
    "    mu = np.concatenate(mu_list, axis=0).astype(np.float64)\n",
    "    return mu\n",
    "\n",
    "def encode_smiles(model, list_smiles, vocab_set):\n",
    "    seed_mol_trees = []\n",
    "    for s in list_smiles:\n",
    "        if s is None:\n",
    "            continue\n",
    "\n",
    "        s_std = standardize_smiles(s)\n",
    "        \n",
    "        if s_std is None:\n",
    "            continue\n",
    "            \n",
    "        tree_tensor = tensorize_smiles(s_std)\n",
    "\n",
    "        # Make sure satisfies vocab check\n",
    "        v_set = get_vocab_from_tree(tree_tensor)\n",
    "\n",
    "        if v_set <= vocab_set:\n",
    "            seed_mol_trees.append(tree_tensor)\n",
    "        else:\n",
    "            print(\"the given smiles did not match with vocab of JT-VAE\")\n",
    "            continue\n",
    "\n",
    "    seed_latent_points = _encode_mol_trees(model, seed_mol_trees)\n",
    "\n",
    "    return seed_latent_points\n",
    "\n",
    "\n",
    "def _batch_decode_z_wo_props(\n",
    "    model,\n",
    "    z,\n",
    "):\n",
    "    \"\"\"\n",
    "    helper function to decode some latent vectors \n",
    "    \"\"\"\n",
    "\n",
    "\n",
    "    # Decode all points in a fixed decoding radius\n",
    "    z_decode = []\n",
    "    batch_size = 64\n",
    "    for j in range(0, len(z), batch_size):\n",
    "        with torch.no_grad():\n",
    "            z_batch = z[j : j + batch_size]\n",
    "            smiles_out = model.decode_deterministic(z_batch.to(**tkwargs))\n",
    "            \n",
    "        z_decode += smiles_out\n",
    "\n",
    "    return z_decode\n",
    "\n",
    "def sample_smiles(model, seed_latent_points, sample_freq = 5, sigma = 0.1):\n",
    "    new_z = []\n",
    "\n",
    "    for z in seed_latent_points:\n",
    "        new_z.append(np.random.normal(z, sigma, size=(sample_freq, len(z))))\n",
    "\n",
    "    new_z = np.vstack(new_z)\n",
    "    new_z = np.unique(new_z, axis = 0)\n",
    "\n",
    "    new_z = torch.tensor(new_z)\n",
    "\n",
    "    cands_smiles = _batch_decode_z_wo_props(model, new_z)\n",
    "    unique_cands_smiles = list(set(cands_smiles))\n",
    "    print(f\"removed {len(cands_smiles)-len(unique_cands_smiles)} repeated smiles\")\n",
    "\n",
    "    return unique_cands_smiles\n",
    "\n",
    "def find_valid(list_smiles, list_labels, vocab_set):\n",
    "    valid_smiles = []\n",
    "    valid_labels = []\n",
    "    for idx, s in tqdm(enumerate(list_smiles)):\n",
    "        try:\n",
    "            if s is None:\n",
    "                continue\n",
    "\n",
    "            s_std = standardize_smiles(s)\n",
    "\n",
    "            if s_std is None:\n",
    "                continue\n",
    "\n",
    "            tree_tensor = tensorize_smiles(s_std)\n",
    "\n",
    "            # Make sure satisfies vocab check\n",
    "            v_set = get_vocab_from_tree(tree_tensor)\n",
    "\n",
    "            if v_set <= vocab_set:\n",
    "                valid_smiles.append(s)\n",
    "                valid_labels.append(list_labels[idx])\n",
    "            else:\n",
    "                continue\n",
    "        except Exception as e:\n",
    "            pass\n",
    "\n",
    "    return valid_smiles, valid_labels\n"
   ]
  },
  {
   "cell_type": "code",
   "execution_count": 4,
   "metadata": {},
   "outputs": [
    {
     "name": "stdout",
     "output_type": "stream",
     "text": [
      "Seeding\n"
     ]
    },
    {
     "data": {
      "text/plain": [
       "JTVAE(\n",
       "  (jtnn_vae): JTNNVAE(\n",
       "    (jtnn): JTNNEncoder(\n",
       "      (embedding): Embedding(780, 450)\n",
       "      (outputNN): Sequential(\n",
       "        (0): Linear(in_features=900, out_features=450, bias=True)\n",
       "        (1): ReLU()\n",
       "      )\n",
       "      (GRU): GraphGRU(\n",
       "        (W_z): Linear(in_features=900, out_features=450, bias=True)\n",
       "        (W_r): Linear(in_features=450, out_features=450, bias=False)\n",
       "        (U_r): Linear(in_features=450, out_features=450, bias=True)\n",
       "        (W_h): Linear(in_features=900, out_features=450, bias=True)\n",
       "      )\n",
       "    )\n",
       "    (decoder): JTNNDecoder(\n",
       "      (embedding): Embedding(780, 450)\n",
       "      (W_z): Linear(in_features=900, out_features=450, bias=True)\n",
       "      (U_r): Linear(in_features=450, out_features=450, bias=False)\n",
       "      (W_r): Linear(in_features=450, out_features=450, bias=True)\n",
       "      (W_h): Linear(in_features=900, out_features=450, bias=True)\n",
       "      (W): Linear(in_features=478, out_features=450, bias=True)\n",
       "      (U): Linear(in_features=478, out_features=450, bias=True)\n",
       "      (U_i): Linear(in_features=900, out_features=450, bias=True)\n",
       "      (W_o): Linear(in_features=450, out_features=780, bias=True)\n",
       "      (U_o): Linear(in_features=450, out_features=1, bias=True)\n",
       "      (pred_loss): CrossEntropyLoss()\n",
       "      (stop_loss): BCEWithLogitsLoss()\n",
       "      (batch_pred_loss): CrossEntropyLoss()\n",
       "      (batch_stop_loss): BCEWithLogitsLoss()\n",
       "    )\n",
       "    (jtmpn): JTMPN(\n",
       "      (W_i): Linear(in_features=40, out_features=450, bias=False)\n",
       "      (W_h): Linear(in_features=450, out_features=450, bias=False)\n",
       "      (W_o): Linear(in_features=485, out_features=450, bias=True)\n",
       "    )\n",
       "    (mpn): MPN(\n",
       "      (W_i): Linear(in_features=50, out_features=450, bias=False)\n",
       "      (W_h): Linear(in_features=450, out_features=450, bias=False)\n",
       "      (W_o): Linear(in_features=489, out_features=450, bias=True)\n",
       "    )\n",
       "    (A_assm): Linear(in_features=28, out_features=450, bias=False)\n",
       "    (assm_loss): CrossEntropyLoss()\n",
       "    (T_mean): Linear(in_features=450, out_features=28, bias=True)\n",
       "    (T_var): Linear(in_features=450, out_features=28, bias=True)\n",
       "    (G_mean): Linear(in_features=450, out_features=28, bias=True)\n",
       "    (G_var): Linear(in_features=450, out_features=28, bias=True)\n",
       "  )\n",
       "  (pred_loss): MSELoss()\n",
       ")"
      ]
     },
     "execution_count": 4,
     "metadata": {},
     "output_type": "execute_result"
    }
   ],
   "source": [
    "print(\"Seeding\")\n",
    "# Seeding\n",
    "pl.seed_everything(42)\n",
    "\n",
    "# print(\"Make results directory\")\n",
    "# # Make results directory\n",
    "# result_dir = Path(args.result_root).resolve()\n",
    "# result_dir.mkdir(parents=True)\n",
    "\n",
    "with open(\"./weighted_retraining/data/vocab.txt\") as f:\n",
    "    vocab = Vocab([x.strip() for x in f.readlines()])\n",
    "\n",
    "# Load model\n",
    "model = JTVAE.load_from_checkpoint(\n",
    "    \"./weighted_retraining/assets/pretrained_models/chem_vanilla/chem.ckpt\", vocab= vocab\n",
    ")\n",
    "model.beta = model.hparams.beta_final  # Override any beta annealing\n",
    "model = model.cuda()\n",
    "\n",
    "model.eval()"
   ]
  },
  {
   "cell_type": "code",
   "execution_count": 5,
   "metadata": {},
   "outputs": [],
   "source": [
    "df = pd.read_csv('data.csv')\n",
    "smiles = df['SMILES'].to_numpy()\n",
    "activity = df['LABEL'].to_numpy()\n",
    "\n",
    "\n",
    "indices = np.random.choice(len(smiles), 500, replace=False)\n",
    "short_smiles = smiles[indices]\n",
    "short_activity = activity[indices]"
   ]
  },
  {
   "cell_type": "code",
   "execution_count": 6,
   "metadata": {},
   "outputs": [
    {
     "name": "stderr",
     "output_type": "stream",
     "text": [
      "0it [00:00, ?it/s]"
     ]
    },
    {
     "name": "stderr",
     "output_type": "stream",
     "text": [
      "26640it [18:22:23,  2.48s/it]\n"
     ]
    }
   ],
   "source": [
    "valid_smiles, valid_labels = find_valid(list_smiles = smiles,\n",
    "                                        list_labels = activity,\n",
    "                                        vocab_set = set(vocab.vocab))"
   ]
  },
  {
   "cell_type": "code",
   "execution_count": 7,
   "metadata": {},
   "outputs": [
    {
     "name": "stderr",
     "output_type": "stream",
     "text": [
      "                                                                     \r"
     ]
    }
   ],
   "source": [
    "seed_latent_points = encode_smiles(model, valid_smiles, set(vocab.vocab))"
   ]
  },
  {
   "cell_type": "code",
   "execution_count": 11,
   "metadata": {},
   "outputs": [],
   "source": [
    "def bayes_opt(num_queries, train_x, train_y, normal_bounds, JTVAE, pp_model, gp_epoch):\n",
    "    \n",
    "    normalize_train_x = normalize(torch.tensor(train_x, dtype=(torch.float)), normal_bounds)\n",
    "    standardize_train_y = standardize(torch.tensor(train_y, dtype=torch.float))\n",
    "\n",
    "    train_y = torch.tensor(train_y)\n",
    "\n",
    "    iteration = []\n",
    "    new_x = []\n",
    "    new_y = []\n",
    "\n",
    "\n",
    "    for i in tqdm(range(num_queries)):\n",
    "        # print(\"incumbent:\", normalize_train_x[standardize_train_y.argmax()], standardize_train_y.max())\n",
    "    \n",
    "        model, likelihood = fit_gp_model(normalize_train_x, standardize_train_y, gp_epoch)\n",
    "        policy = botorch.acquisition.analytic.ExpectedImprovement(model, best_f = standardize_train_y.max())\n",
    "\n",
    "        lower_bounds = torch.zeros(train_x.shape[1]) \n",
    "        upper_bounds = torch.ones(train_x.shape[1])   \n",
    "        bounds = torch.stack([lower_bounds, upper_bounds])\n",
    "\n",
    "        next_x, acq_val = botorch.optim.optimize_acqf(\n",
    "            policy,\n",
    "            bounds = bounds,\n",
    "            q = 1,\n",
    "            num_restarts=10,\n",
    "            raw_samples=20,\n",
    "        )\n",
    "\n",
    "        unnormalize_next_x = unnormalize(next_x, normal_bounds)\n",
    "\n",
    "        # train_x.append(unnormalize_next_x)\n",
    "\n",
    "        decoded_x = _batch_decode_z_wo_props(JTVAE, unnormalize_next_x)\n",
    "\n",
    "\n",
    "        next_y = predict_activity(pp_model, decoded_x[0])\n",
    "\n",
    "        next_y = torch.tensor(next_y)\n",
    "\n",
    "        # train_y.append(next_y)\n",
    "\n",
    "        # next_y = [] #Unnormalize --> Send next_x to decoder  --> Property Predictor\n",
    "\n",
    "        normalize_train_x = torch.cat([normalize_train_x, next_x])\n",
    "        train_y = torch.cat([train_y, next_y]) # Concat to raw data then standardize before concatonation\n",
    "        new_standardize_train_y = standardize(torch.tensor(train_y))\n",
    "        standardize_train_y = new_standardize_train_y\n",
    "\n",
    "        iteration.append(i)\n",
    "        new_x.append(unnormalize_next_x)\n",
    "        new_y.append(next_y)\n",
    "\n",
    "    return iteration, new_x, new_y\n"
   ]
  },
  {
   "cell_type": "code",
   "execution_count": 9,
   "metadata": {},
   "outputs": [
    {
     "name": "stdout",
     "output_type": "stream",
     "text": [
      "Drug Property Prediction Mode...\n",
      "in total: 26640 drugs\n",
      "encoding drug...\n",
      "unique drugs: 13764\n",
      "Done.\n",
      "Let's use 1 GPU!\n",
      "--- Data Preparation ---\n",
      "--- Go for Training ---\n",
      "Training at Epoch 1 iteration 0 with loss 356.570. Total time 0.0 hours\n",
      "Training at Epoch 1 iteration 100 with loss 121.387. Total time 0.00305 hours\n",
      "Validation at Epoch 1 , MSE: 164.244 , Pearson Correlation: 0.63216 with p-value: 2.87E-297 , Concordance Index: 0.69991\n",
      "Training at Epoch 2 iteration 0 with loss 181.145. Total time 0.00472 hours\n",
      "Training at Epoch 2 iteration 100 with loss 66.9796. Total time 0.00777 hours\n",
      "Validation at Epoch 2 , MSE: 72.5057 , Pearson Correlation: 0.84770 with p-value: 0.00E+00 , Concordance Index: 0.77758\n",
      "Training at Epoch 3 iteration 0 with loss 64.5238. Total time 0.00972 hours\n",
      "Training at Epoch 3 iteration 100 with loss 53.2721. Total time 0.01333 hours\n",
      "Validation at Epoch 3 , MSE: 29.3576 , Pearson Correlation: 0.94035 with p-value: 0.00E+00 , Concordance Index: 0.84396\n",
      "Training at Epoch 4 iteration 0 with loss 28.7918. Total time 0.015 hours\n",
      "Training at Epoch 4 iteration 100 with loss 28.8596. Total time 0.01833 hours\n",
      "Validation at Epoch 4 , MSE: 20.8291 , Pearson Correlation: 0.95915 with p-value: 0.00E+00 , Concordance Index: 0.86432\n",
      "Training at Epoch 5 iteration 0 with loss 14.8099. Total time 0.02027 hours\n",
      "Training at Epoch 5 iteration 100 with loss 13.8682. Total time 0.02361 hours\n",
      "Validation at Epoch 5 , MSE: 18.4319 , Pearson Correlation: 0.96388 with p-value: 0.00E+00 , Concordance Index: 0.87161\n",
      "Training at Epoch 6 iteration 0 with loss 21.1456. Total time 0.02638 hours\n",
      "Training at Epoch 6 iteration 100 with loss 16.6652. Total time 0.02972 hours\n",
      "Validation at Epoch 6 , MSE: 15.8628 , Pearson Correlation: 0.97436 with p-value: 0.00E+00 , Concordance Index: 0.87695\n",
      "Training at Epoch 7 iteration 0 with loss 11.0276. Total time 0.03166 hours\n",
      "Training at Epoch 7 iteration 100 with loss 13.3782. Total time 0.03472 hours\n",
      "Validation at Epoch 7 , MSE: 14.1541 , Pearson Correlation: 0.97122 with p-value: 0.00E+00 , Concordance Index: 0.87574\n",
      "Training at Epoch 8 iteration 0 with loss 10.3548. Total time 0.03722 hours\n",
      "Training at Epoch 8 iteration 100 with loss 5.27815. Total time 0.04055 hours\n",
      "Validation at Epoch 8 , MSE: 12.8416 , Pearson Correlation: 0.97386 with p-value: 0.00E+00 , Concordance Index: 0.88079\n",
      "Training at Epoch 9 iteration 0 with loss 6.83786. Total time 0.0425 hours\n",
      "Training at Epoch 9 iteration 100 with loss 4.75914. Total time 0.04583 hours\n",
      "Validation at Epoch 9 , MSE: 13.3965 , Pearson Correlation: 0.97265 with p-value: 0.00E+00 , Concordance Index: 0.87595\n",
      "Training at Epoch 10 iteration 0 with loss 16.3495. Total time 0.04777 hours\n",
      "Training at Epoch 10 iteration 100 with loss 9.83659. Total time 0.05055 hours\n",
      "Validation at Epoch 10 , MSE: 24.1375 , Pearson Correlation: 0.96181 with p-value: 0.00E+00 , Concordance Index: 0.87536\n",
      "--- Go for Testing ---\n",
      "Testing MSE: 13.359004204916731 , Pearson Correlation: 0.9728624077719759 with p-value: 0.00E+00 , Concordance Index: 0.8791494406202192\n",
      "--- Training Finished ---\n"
     ]
    },
    {
     "data": {
      "image/png": "[encoded data removed]",
      "text/plain": [
       "<Figure size 640x480 with 1 Axes>"
      ]
     },
     "metadata": {},
     "output_type": "display_data"
    }
   ],
   "source": [
    "pp_model = train_model(smiles = smiles, \n",
    "                       activity = activity)"
   ]
  },
  {
   "cell_type": "code",
   "execution_count": 10,
   "metadata": {},
   "outputs": [],
   "source": [
    "normal_bounds = torch.tensor([[0.0] * seed_latent_points.shape[1], [1.0] * seed_latent_points.shape[1]])"
   ]
  },
  {
   "cell_type": "code",
   "execution_count": null,
   "metadata": {},
   "outputs": [
    {
     "name": "stderr",
     "output_type": "stream",
     "text": [
      "  0%|          | 0/100 [00:00<?, ?it/s]"
     ]
    }
   ],
   "source": [
    "iteration ,X_list, y_list = bayes_opt(num_queries=100,\n",
    "                           train_x = seed_latent_points,\n",
    "                           train_y = valid_labels,\n",
    "                           normal_bounds = normal_bounds,\n",
    "                           JTVAE = model,\n",
    "                           pp_model = pp_model,\n",
    "                           gp_epoch=500)"
   ]
  },
  {
   "cell_type": "code",
   "execution_count": 15,
   "metadata": {},
   "outputs": [],
   "source": [
    "mol = []\n",
    "\n",
    "for x in X_list:\n",
    "    mol.append(_batch_decode_z_wo_props(model, x))"
   ]
  },
  {
   "cell_type": "code",
   "execution_count": null,
   "metadata": {},
   "outputs": [],
   "source": [
    "y_list_new = []\n",
    "\n",
    "for y in y_list:\n",
    "    y_list_new.append(y.item())"
   ]
  },
  {
   "cell_type": "code",
   "execution_count": 23,
   "metadata": {},
   "outputs": [
    {
     "data": {
      "text/plain": [
       "(1000, 1000)"
      ]
     },
     "execution_count": 23,
     "metadata": {},
     "output_type": "execute_result"
    }
   ],
   "source": [
    "len(mol), len(y_list_new)"
   ]
  },
  {
   "cell_type": "code",
   "execution_count": 17,
   "metadata": {},
   "outputs": [
    {
     "data": {
      "text/html": [
       "<div>\n",
       "<style scoped>\n",
       "    .dataframe tbody tr th:only-of-type {\n",
       "        vertical-align: middle;\n",
       "    }\n",
       "\n",
       "    .dataframe tbody tr th {\n",
       "        vertical-align: top;\n",
       "    }\n",
       "\n",
       "    .dataframe thead th {\n",
       "        text-align: right;\n",
       "    }\n",
       "</style>\n",
       "<table border=\"1\" class=\"dataframe\">\n",
       "  <thead>\n",
       "    <tr style=\"text-align: right;\">\n",
       "      <th></th>\n",
       "      <th>Iteration</th>\n",
       "      <th>Drug</th>\n",
       "      <th>Activity</th>\n",
       "    </tr>\n",
       "  </thead>\n",
       "  <tbody>\n",
       "    <tr>\n",
       "      <th>839</th>\n",
       "      <td>839</td>\n",
       "      <td>[CC(=O)NCc1ccccc1C(=O)N1CCC2CCC([NH3+])(C1)[NH...</td>\n",
       "      <td>16.339813</td>\n",
       "    </tr>\n",
       "    <tr>\n",
       "      <th>316</th>\n",
       "      <td>316</td>\n",
       "      <td>[CC1C[NH2+]CC([NH3+])(C(=O)Nc2nnc(-c3cccc4c3OC...</td>\n",
       "      <td>16.311773</td>\n",
       "    </tr>\n",
       "    <tr>\n",
       "      <th>47</th>\n",
       "      <td>47</td>\n",
       "      <td>[Cc1occc1CN1CCC(C)(C(=O)Nc2cccc3ccccc23)CC1=O]</td>\n",
       "      <td>16.229059</td>\n",
       "    </tr>\n",
       "    <tr>\n",
       "      <th>175</th>\n",
       "      <td>175</td>\n",
       "      <td>[Cc1noc(-c2cccc(NC(=O)C3CC4(C)CCC3C4)c2)n1]</td>\n",
       "      <td>15.395352</td>\n",
       "    </tr>\n",
       "    <tr>\n",
       "      <th>205</th>\n",
       "      <td>205</td>\n",
       "      <td>[Cc1noc(-c2cccc(NC(=O)C3CC4(C)CCC3C4)c2)n1]</td>\n",
       "      <td>15.395352</td>\n",
       "    </tr>\n",
       "  </tbody>\n",
       "</table>\n",
       "</div>"
      ],
      "text/plain": [
       "     Iteration                                               Drug   Activity\n",
       "839        839  [CC(=O)NCc1ccccc1C(=O)N1CCC2CCC([NH3+])(C1)[NH...  16.339813\n",
       "316        316  [CC1C[NH2+]CC([NH3+])(C(=O)Nc2nnc(-c3cccc4c3OC...  16.311773\n",
       "47          47     [Cc1occc1CN1CCC(C)(C(=O)Nc2cccc3ccccc23)CC1=O]  16.229059\n",
       "175        175        [Cc1noc(-c2cccc(NC(=O)C3CC4(C)CCC3C4)c2)n1]  15.395352\n",
       "205        205        [Cc1noc(-c2cccc(NC(=O)C3CC4(C)CCC3C4)c2)n1]  15.395352"
      ]
     },
     "execution_count": 17,
     "metadata": {},
     "output_type": "execute_result"
    }
   ],
   "source": [
    "df = pd.DataFrame(data = {'Iteration': iteration, 'Drug': mol, 'Activity': y_list_new})\n",
    "\n",
    "df.sort_values(by = 'Activity', ascending = False).head()"
   ]
  },
  {
   "cell_type": "code",
   "execution_count": 18,
   "metadata": {},
   "outputs": [
    {
     "data": {
      "image/png": "[encoded data removed]",
      "text/plain": [
       "<Figure size 640x480 with 1 Axes>"
      ]
     },
     "metadata": {},
     "output_type": "display_data"
    }
   ],
   "source": [
    "import matplotlib.pyplot as plt\n",
    "\n",
    "plt.plot(iteration, y_list_new)\n",
    "plt.xlabel('Iteration')\n",
    "plt.ylabel('Activity')\n",
    "plt.title('Bayesian Optimization')\n",
    "plt.show()"
   ]
  },
  {
   "cell_type": "code",
   "execution_count": 22,
   "metadata": {},
   "outputs": [
    {
     "data": {
      "text/plain": [
       "0"
      ]
     },
     "execution_count": 22,
     "metadata": {},
     "output_type": "execute_result"
    }
   ],
   "source": [
    "# Check valid smiles\n",
    "from rdkit import Chem\n",
    "count = 0\n",
    "\n",
    "\n",
    "for i in mol:\n",
    "    m = Chem.MolFromSmiles(i[0])\n",
    "    if m:\n",
    "        continue\n",
    "    else:\n",
    "        count += 1\n",
    "\n",
    "count"
   ]
  },
  {
   "cell_type": "code",
   "execution_count": 21,
   "metadata": {},
   "outputs": [
    {
     "data": {
      "image/png": "[encoded data removed]",
      "text/plain": [
       "<rdkit.Chem.rdchem.Mol at 0x7f572cacac30>"
      ]
     },
     "execution_count": 21,
     "metadata": {},
     "output_type": "execute_result"
    }
   ],
   "source": [
    "Chem.MolFromSmiles(mol[839][0])"
   ]
  },
  {
   "cell_type": "code",
   "execution_count": null,
   "metadata": {},
   "outputs": [],
   "source": []
  }
 ],
 "metadata": {
  "kernelspec": {
   "display_name": "env_ecen689",
   "language": "python",
   "name": "python3"
  },
  "language_info": {
   "codemirror_mode": {
    "name": "ipython",
    "version": 3
   },
   "file_extension": ".py",
   "mimetype": "text/x-python",
   "name": "python",
   "nbconvert_exporter": "python",
   "pygments_lexer": "ipython3",
   "version": "3.7.12"
  }
 },
 "nbformat": 4,
 "nbformat_minor": 2
}
